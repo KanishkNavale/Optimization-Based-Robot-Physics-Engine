{
 "metadata": {
  "language_info": {
   "codemirror_mode": {
    "name": "ipython",
    "version": 3
   },
   "file_extension": ".py",
   "mimetype": "text/x-python",
   "name": "python",
   "nbconvert_exporter": "python",
   "pygments_lexer": "ipython3",
   "version": "3.8.5"
  },
  "orig_nbformat": 2,
  "kernelspec": {
   "name": "python38564bit4992f6fd0a3e4877a9f5fc2377206207",
   "display_name": "Python 3.8.5 64-bit"
  },
  "metadata": {
   "interpreter": {
    "hash": "31f2aee4e71d21fbe5cf8b01ff0e069b9275f58929596ceb00d14d90e3e16cd6"
   }
  }
 },
 "nbformat": 4,
 "nbformat_minor": 2,
 "cells": [
  {
   "cell_type": "code",
   "execution_count": 1,
   "metadata": {},
   "outputs": [],
   "source": [
    "# Library Imports\n",
    "import pinocchio as pin\n",
    "from pinocchio.visualize import MeshcatVisualizer\n",
    "\n",
    "import numpy as np\n",
    "np.set_printoptions(precision=4)\n",
    "%matplotlib inline\n",
    "\n",
    "import matplotlib.pyplot as plt\n",
    "plt.style.use('dark_background')\n",
    "\n",
    "import os\n",
    "from time import sleep"
   ]
  },
  {
   "cell_type": "code",
   "execution_count": 2,
   "metadata": {},
   "outputs": [],
   "source": [
    "# Read the .stl files\n",
    "package_dir = os.path.abspath(os.getcwd())\n",
    "urdf_path = package_dir + '/model/fingeredu.urdf'"
   ]
  },
  {
   "cell_type": "code",
   "execution_count": 3,
   "metadata": {},
   "outputs": [],
   "source": [
    "# Build the robot \n",
    "model, collision_model, visual_model = pin.buildModelsFromUrdf(urdf_path, package_dir)\n",
    "collision_model.addAllCollisionPairs()\n",
    "\n",
    "model_data = model.createData()\n",
    "collision_data = pin.GeometryData(collision_model)"
   ]
  },
  {
   "cell_type": "code",
   "execution_count": 4,
   "metadata": {},
   "outputs": [
    {
     "output_type": "stream",
     "name": "stdout",
     "text": [
      "You can open the visualizer by visiting the following URL:\nhttp://127.0.0.1:7008/static/\n"
     ]
    }
   ],
   "source": [
    "# Display the visual of the robot\n",
    "viz = MeshcatVisualizer(model, collision_model, visual_model)\n",
    "viz.initViewer(open=True)\n",
    "viz.loadViewerModel()\n",
    "q0 = pin.neutral(model)\n",
    "viz.display(q0)"
   ]
  },
  {
   "cell_type": "code",
   "execution_count": 5,
   "metadata": {},
   "outputs": [],
   "source": [
    "# Definition to Compute Collisions\n",
    "def compute_Collisions(model,data,geom_model,geom_data,q):\n",
    "    pin.computeCollisions(model,data,geom_model,geom_data,q,False)\n",
    "\n",
    "    for k in range(len(geom_model.collisionPairs)): \n",
    "        cr = geom_data.collisionResults[k]\n",
    "\n",
    "    return cr.isCollision()"
   ]
  },
  {
   "cell_type": "code",
   "execution_count": 6,
   "metadata": {},
   "outputs": [
    {
     "output_type": "stream",
     "name": "stderr",
     "text": [
      "<ipython-input-6-ba6198d9e20a>:4: UserWarning: Plotting collision meshes is not available for MeshcatVisualizer\n  viz.displayCollisions(True)\n"
     ]
    }
   ],
   "source": [
    "# Put the robot in collision stance\n",
    "q = np.array([np.pi/4, np.pi/4, np.pi/1.2])\n",
    "viz.display(q)\n",
    "viz.displayCollisions(True)"
   ]
  },
  {
   "cell_type": "code",
   "execution_count": 7,
   "metadata": {},
   "outputs": [
    {
     "output_type": "execute_result",
     "data": {
      "text/plain": [
       "True"
      ]
     },
     "metadata": {},
     "execution_count": 7
    }
   ],
   "source": [
    "# Compute Collisions\n",
    "compute_Collisions(model, model_data, collision_model, collision_data, q)"
   ]
  }
 ]
}