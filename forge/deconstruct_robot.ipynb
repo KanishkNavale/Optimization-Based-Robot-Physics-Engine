{
 "metadata": {
  "language_info": {
   "codemirror_mode": {
    "name": "ipython",
    "version": 3
   },
   "file_extension": ".py",
   "mimetype": "text/x-python",
   "name": "python",
   "nbconvert_exporter": "python",
   "pygments_lexer": "ipython3",
   "version": "3.8.5"
  },
  "orig_nbformat": 2,
  "kernelspec": {
   "name": "python38564bit4992f6fd0a3e4877a9f5fc2377206207",
   "display_name": "Python 3.8.5 64-bit"
  },
  "metadata": {
   "interpreter": {
    "hash": "31f2aee4e71d21fbe5cf8b01ff0e069b9275f58929596ceb00d14d90e3e16cd6"
   }
  }
 },
 "nbformat": 4,
 "nbformat_minor": 2,
 "cells": [
  {
   "cell_type": "code",
   "execution_count": 55,
   "metadata": {},
   "outputs": [],
   "source": [
    "# Library Imports\n",
    "import pinocchio as pin\n",
    "from pinocchio.visualize import MeshcatVisualizer"
   ]
  },
  {
   "cell_type": "code",
   "execution_count": 56,
   "metadata": {},
   "outputs": [],
   "source": [
    "# Read the .stl files\n",
    "package_dir = '/home/kanishk/Desktop/Pinocchio-Based-Robot-Solver'\n",
    "urdf_path = '/home/kanishk/Desktop/Pinocchio-Based-Robot-Solver/model/fingeredu.urdf'"
   ]
  },
  {
   "cell_type": "code",
   "execution_count": 57,
   "metadata": {},
   "outputs": [],
   "source": [
    "# Build the model \n",
    "model, collision_model, visual_model = pin.buildModelsFromUrdf(urdf_path, package_dir)"
   ]
  },
  {
   "cell_type": "code",
   "execution_count": 58,
   "metadata": {},
   "outputs": [
    {
     "output_type": "stream",
     "name": "stdout",
     "text": [
      "You can open the visualizer by visiting the following URL:\nhttp://127.0.0.1:7002/static/\n"
     ]
    }
   ],
   "source": [
    "# Render the model \n",
    "viz = MeshcatVisualizer(model, collision_model, visual_model)\n",
    "viz.initViewer(open=True)\n",
    "viz.loadViewerModel()\n",
    "q0 = pin.neutral(model)\n",
    "viz.display(q0)"
   ]
  },
  {
   "cell_type": "code",
   "execution_count": 59,
   "metadata": {},
   "outputs": [
    {
     "output_type": "stream",
     "name": "stdout",
     "text": [
      "Robot Joints:\n Nb joints = 4 (nq=3,nv=3)\n  Joint 0 universe: parent=0\n  Joint 1 finger_base_to_upper_joint: parent=0\n  Joint 2 finger_upper_to_middle_joint: parent=1\n  Joint 3 finger_middle_to_lower_joint: parent=2\n\n"
     ]
    }
   ],
   "source": [
    "# Print Robot Joints\n",
    "print (f'Robot Joints:\\n {model}')"
   ]
  },
  {
   "cell_type": "code",
   "execution_count": 60,
   "metadata": {},
   "outputs": [
    {
     "output_type": "stream",
     "name": "stdout",
     "text": [
      "Robot Frames:\n\nID: 0 \t Frame: universe\nID: 1 \t Frame: root_joint\nID: 2 \t Frame: base_link\nID: 3 \t Frame: base_to_finger\nID: 4 \t Frame: finger_base_link\nID: 5 \t Frame: finger_base_to_upper_joint\nID: 6 \t Frame: finger_upper_link\nID: 7 \t Frame: finger_upper_to_middle_joint\nID: 8 \t Frame: finger_middle_link\nID: 9 \t Frame: finger_middle_to_lower_joint\nID: 10 \t Frame: finger_lower_link\nID: 11 \t Frame: finger_lower_to_tip_joint\nID: 12 \t Frame: finger_tip_link\n"
     ]
    }
   ],
   "source": [
    "# Print Robot Frames\n",
    "print (f'Robot Frames:\\n')\n",
    "for i,f in enumerate(model.frames): \n",
    "    print(f'ID: {i} \\t Frame: {f.name}')"
   ]
  },
  {
   "cell_type": "code",
   "execution_count": 68,
   "metadata": {},
   "outputs": [
    {
     "output_type": "stream",
     "name": "stdout",
     "text": [
      "[ 0.17732329 -0.26231896 -2.0759199 ]\n"
     ]
    }
   ],
   "source": [
    "# Random Sample of the configuration and render it!\n",
    "q = pin.randomConfiguration(model)\n",
    "print (q)\n",
    "viz.display(q)"
   ]
  },
  {
   "cell_type": "code",
   "execution_count": null,
   "metadata": {},
   "outputs": [],
   "source": []
  }
 ]
}