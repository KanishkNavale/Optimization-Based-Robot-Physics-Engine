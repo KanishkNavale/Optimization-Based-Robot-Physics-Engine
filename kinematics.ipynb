{
 "metadata": {
  "language_info": {
   "codemirror_mode": {
    "name": "ipython",
    "version": 3
   },
   "file_extension": ".py",
   "mimetype": "text/x-python",
   "name": "python",
   "nbconvert_exporter": "python",
   "pygments_lexer": "ipython3",
   "version": "3.8.5"
  },
  "orig_nbformat": 2,
  "kernelspec": {
   "name": "python38564bit4992f6fd0a3e4877a9f5fc2377206207",
   "display_name": "Python 3.8.5 64-bit"
  },
  "metadata": {
   "interpreter": {
    "hash": "31f2aee4e71d21fbe5cf8b01ff0e069b9275f58929596ceb00d14d90e3e16cd6"
   }
  }
 },
 "nbformat": 4,
 "nbformat_minor": 2,
 "cells": [
  {
   "cell_type": "code",
   "execution_count": 1,
   "metadata": {},
   "outputs": [],
   "source": [
    "# Library Imports\n",
    "import pinocchio as pin\n",
    "from pinocchio.visualize import GepettoVisualizer\n",
    "from pinocchio import RobotWrapper\n",
    "\n",
    "import numpy as np\n",
    "from numpy.linalg import *\n",
    "np.set_printoptions(precision=4)\n",
    "\n",
    "import matplotlib.pyplot as plt\n",
    "plt.style.use('dark_background')\n",
    "\n",
    "import os\n",
    "from time import sleep"
   ]
  },
  {
   "cell_type": "code",
   "execution_count": 2,
   "metadata": {},
   "outputs": [],
   "source": [
    "# Read the .stl files\n",
    "package_dir = os.path.abspath(os.getcwd())\n",
    "urdf_path = package_dir + '/model/fingeredu.urdf'"
   ]
  },
  {
   "cell_type": "code",
   "execution_count": 3,
   "metadata": {},
   "outputs": [],
   "source": [
    "# Build the robot \n",
    "model, collision_model, visual_model = pin.buildModelsFromUrdf(urdf_path, package_dir)\n",
    "data = model.createData()"
   ]
  },
  {
   "cell_type": "code",
   "execution_count": 4,
   "metadata": {},
   "outputs": [],
   "source": [
    "# Display the visual of the robot\n",
    "viz = GepettoVisualizer(model, collision_model, visual_model)\n",
    "viz.initViewer()\n",
    "viz.loadViewerModel(\"pinocchio\")\n",
    "viz.displayCollisions(True)\n",
    "q0 = pin.neutral(model)\n",
    "viz.display(q0)"
   ]
  },
  {
   "cell_type": "code",
   "execution_count": 5,
   "metadata": {},
   "outputs": [],
   "source": [
    "# Get the FrameID of the EOAT\n",
    "EOAT_ID = model.getFrameId('finger_tip_link')"
   ]
  },
  {
   "cell_type": "code",
   "execution_count": 6,
   "metadata": {},
   "outputs": [],
   "source": [
    "# Computing Forward Kinematics\n",
    "def compute_ForwardKinematics(model, data, q):\n",
    "    pin.framesForwardKinematics(model, data, q)\n",
    "    pos = np.array(data.oMf[EOAT_ID].translation)\n",
    "    return pos"
   ]
  },
  {
   "cell_type": "code",
   "execution_count": 7,
   "metadata": {},
   "outputs": [],
   "source": [
    "# Compute the Jacobian\n",
    "def compute_Jacobian(model, data, q):\n",
    "    pin.computeJointJacobians(model, data, q)\n",
    "    return pin.getFrameJacobian(model, data, EOAT_ID, pin.ReferenceFrame.LOCAL_WORLD_ALIGNED,)[:3]"
   ]
  },
  {
   "cell_type": "code",
   "execution_count": 11,
   "metadata": {},
   "outputs": [],
   "source": [
    "# Trajectory Planning for Point-to-Point(P2P) Motion\n",
    "def Trajectory_Planner(model, data, goal_pos, joint_pos, interpolation='linear', smooth=True):\n",
    "    # Initiate Callers\n",
    "    q = joint_pos\n",
    "    y_target = goal_pos\n",
    "    init_y = compute_ForwardKinematics(model, data, q)\n",
    "    Error = goal_pos - init_y\n",
    "\n",
    "    # Constants\n",
    "    W = 1e-4 * np.eye(3)\n",
    "\n",
    "    # HyperParams-> Needs to be tuned for large P2P Motion\n",
    "    if interpolation=='joint':\n",
    "        max_steps = 100\n",
    "        smooth = 1e-1\n",
    "    if interpolation=='linear':\n",
    "        max_steps = 1000\n",
    "        smooth = 1\n",
    "\n",
    "    for i in range(1, max_steps):\n",
    "        y = compute_ForwardKinematics(model, data, q)\n",
    "        J = compute_Jacobian(model, data, q) \n",
    "\n",
    "        # Compute Error\n",
    "        Error = goal_pos - y\n",
    "\n",
    "        if interpolation=='joint':\n",
    "            pass\n",
    "        if interpolation=='linear':\n",
    "            y_target = init_y + (i/max_steps)*(goal_pos-y)\n",
    "\n",
    "        q += smooth * np.linalg.inv(J.T @ J + W) @ J.T @ (y_target - y)\n",
    "        viz.displayCollisions(True)\n",
    "        viz.displayVisuals(True)\n",
    "        viz.display(q)\n",
    "\n",
    "    return print(f'Positioning Error: {np.linalg.norm(Error)*1e3}mm')"
   ]
  },
  {
   "cell_type": "code",
   "execution_count": 9,
   "metadata": {},
   "outputs": [],
   "source": [
    "# Point based Trajectory Planner\n",
    "def TrajPlanner_Complex(model, data, q, iterations):\n",
    "\n",
    "    # Init. Robot\n",
    "    w = 1e-4\n",
    "    W = w * np.identity(3) \n",
    " \n",
    "    # Make tracepoints for circle\n",
    "    radius = 0.05\n",
    "    target_center = compute_ForwardKinematics(model, data, q)\n",
    "    trace_points = []\n",
    "    theta = (2 * np.pi)/int(iterations)\n",
    "    for i in range(int(iterations)+1):\n",
    "        X = radius*np.cos(theta*i)+target_center[0]\n",
    "        Z = radius*np.sin(theta*i)+target_center[2]\n",
    "        trace_points.append(np.array([X, target_center[1], Z]))\n",
    "\n",
    "    # Trace Circle from center\n",
    "    for i, point in enumerate(trace_points):\n",
    "        init_y = compute_ForwardKinematics(model, data, q)\n",
    "        for j in range(10):\n",
    "            y = compute_ForwardKinematics(model, data, q)\n",
    "            J = compute_Jacobian(model, data, q) \n",
    "            y_target = init_y + ((j+1)/ 10) * (point - init_y)\n",
    "            q += inv(J.T @ J + W) @ J.T @ (y_target - y)\n",
    "            viz.display(q)"
   ]
  },
  {
   "cell_type": "code",
   "execution_count": 15,
   "metadata": {},
   "outputs": [
    {
     "output_type": "stream",
     "name": "stdout",
     "text": [
      "Positioning Error: 196.21807893105077mm\n"
     ]
    }
   ],
   "source": [
    "# Check Trajectory Generation\n",
    "\n",
    "# Set the Robot in Random Position\n",
    "q = np.array([0, -np.pi/3, np.pi/1.5])\n",
    "viz.display(q)\n",
    "sleep(1)\n",
    "\n",
    "\n",
    "# Augment 'goal_pos' from 'curr_pos'\n",
    "Trajectory_Planner(model, data, [-0.1,-0.1,0.5], q, interpolation='linear')"
   ]
  },
  {
   "cell_type": "code",
   "execution_count": null,
   "metadata": {},
   "outputs": [],
   "source": []
  },
  {
   "cell_type": "code",
   "execution_count": null,
   "metadata": {},
   "outputs": [],
   "source": []
  }
 ]
}