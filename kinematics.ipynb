{
 "metadata": {
  "language_info": {
   "codemirror_mode": {
    "name": "ipython",
    "version": 3
   },
   "file_extension": ".py",
   "mimetype": "text/x-python",
   "name": "python",
   "nbconvert_exporter": "python",
   "pygments_lexer": "ipython3",
   "version": "3.8.5"
  },
  "orig_nbformat": 2,
  "kernelspec": {
   "name": "python38564bit4992f6fd0a3e4877a9f5fc2377206207",
   "display_name": "Python 3.8.5 64-bit"
  },
  "metadata": {
   "interpreter": {
    "hash": "31f2aee4e71d21fbe5cf8b01ff0e069b9275f58929596ceb00d14d90e3e16cd6"
   }
  }
 },
 "nbformat": 4,
 "nbformat_minor": 2,
 "cells": [
  {
   "cell_type": "code",
   "execution_count": 164,
   "metadata": {},
   "outputs": [],
   "source": [
    "# Library Imports\n",
    "import pinocchio as pin\n",
    "from pinocchio.visualize import MeshcatVisualizer\n",
    "from pinocchio import RobotWrapper\n",
    "import numpy as np\n",
    "from numpy.linalg import *\n",
    "import matplotlib.pyplot as plt\n",
    "plt.style.use('dark_background')\n",
    "\n",
    "from time import sleep"
   ]
  },
  {
   "cell_type": "code",
   "execution_count": 165,
   "metadata": {},
   "outputs": [],
   "source": [
    "# Read the .stl files\n",
    "package_dir = '/home/kanishk/Desktop/Pinocchio-Based-Robot-Solver'\n",
    "urdf_path = '/home/kanishk/Desktop/Pinocchio-Based-Robot-Solver/model/fingeredu.urdf'"
   ]
  },
  {
   "cell_type": "code",
   "execution_count": 166,
   "metadata": {},
   "outputs": [],
   "source": [
    "# Build the robot \n",
    "robot = RobotWrapper.BuildFromURDF(urdf_path, package_dir)"
   ]
  },
  {
   "cell_type": "code",
   "execution_count": 167,
   "metadata": {},
   "outputs": [
    {
     "output_type": "stream",
     "name": "stdout",
     "text": [
      "You can open the visualizer by visiting the following URL:\n",
      "http://127.0.0.1:7011/static/\n",
      "<ipython-input-167-6974781be780>:5: UserWarning: Plotting collision meshes is not available for MeshcatVisualizer\n",
      "  viz.displayCollisions(True)\n"
     ]
    }
   ],
   "source": [
    "# Display the visual of the robot\n",
    "viz = MeshcatVisualizer(robot.model, robot.collision_model, robot.visual_model)\n",
    "viz.initViewer(open=True)\n",
    "viz.loadViewerModel()\n",
    "viz.displayCollisions(True)\n",
    "q0 = pin.neutral(robot.model)\n",
    "viz.display(q0)"
   ]
  },
  {
   "cell_type": "code",
   "execution_count": 168,
   "metadata": {},
   "outputs": [],
   "source": [
    "# Get the FrameID of the EOAT\n",
    "EOAT_ID = robot.model.getFrameId('finger_tip_link')"
   ]
  },
  {
   "cell_type": "code",
   "execution_count": 169,
   "metadata": {},
   "outputs": [],
   "source": [
    "# Set Robot to Better Kinematic Pose\n",
    "q = pin.randomConfiguration(robot.model)\n",
    "\n",
    "# Computing Forward Kinematics\n",
    "def compute_ForwardKinematics(robot, q):\n",
    "    pin.framesForwardKinematics(robot.model, robot.data, q)\n",
    "    pos = np.array(robot.data.oMf[EOAT_ID].translation)\n",
    "    viz.display(pos)\n",
    "    return pos"
   ]
  },
  {
   "cell_type": "code",
   "execution_count": 170,
   "metadata": {},
   "outputs": [],
   "source": [
    "# Compute the Jacobian\n",
    "def compute_Jacobian(robot, q):\n",
    "    pin.computeJointJacobians(robot.model, robot.data, q)\n",
    "    return pin.getFrameJacobian(robot.model, robot.data, EOAT_ID, pin.ReferenceFrame.LOCAL_WORLD_ALIGNED,)[:3]"
   ]
  },
  {
   "cell_type": "code",
   "execution_count": 171,
   "metadata": {},
   "outputs": [],
   "source": [
    "# Compute Inverse Kinematics\n",
    "def Trajectory_Planner(robot, goal_pos, joint_pos, interpolation='linear'):\n",
    "    # Initiate Callers\n",
    "    q = joint_pos\n",
    "    init_y = compute_ForwardKinematics(robot, q)\n",
    "    y_target = goal_pos\n",
    "\n",
    "    # Constants\n",
    "    smooth = 1e-2\n",
    "    W = 1e-4 * np.eye(3)\n",
    "    max_steps = 10\n",
    "\n",
    "    for i in range(1, int(max_steps)):\n",
    "        y = compute_ForwardKinematics(robot, q)\n",
    "        J = compute_Jacobian(robot, q) \n",
    "\n",
    "        # Compute Error\n",
    "        Error = goal_pos - y\n",
    "\n",
    "        if interpolation == 'joint':\n",
    "            pass\n",
    "        if interpolation == 'linear':\n",
    "            y_target = init_y + (i/max_steps) * (goal_pos - init_y)  \n",
    "\n",
    "        q = smooth * np.linalg.inv(J.T @ J + W) @ J.T @ (y_target - y)\n",
    "\n",
    "        viz.display(q)\n",
    "        sleep(0.2)\n",
    "\n",
    "    return q"
   ]
  },
  {
   "cell_type": "code",
   "execution_count": 172,
   "metadata": {},
   "outputs": [
    {
     "output_type": "stream",
     "name": "stdout",
     "text": [
      "[-0.01399262  0.01225668  0.1388154 ]\n"
     ]
    }
   ],
   "source": [
    "# Check Trajectory Generation\n",
    "\n",
    "# Set the Robot in Random Position\n",
    "q = pin.randomConfiguration(robot.model)\n",
    "viz.display(q)\n",
    "\n",
    "# Augment 'goal_pos' from 'curr_pos'\n",
    "curr_pos = compute_ForwardKinematics(robot, q)\n",
    "print (curr_pos)"
   ]
  },
  {
   "cell_type": "code",
   "execution_count": 173,
   "metadata": {},
   "outputs": [
    {
     "output_type": "stream",
     "name": "stdout",
     "text": [
      "[-9.24419534e-11 -5.89464864e-02 -3.70931337e-02]\n"
     ]
    }
   ],
   "source": [
    "_q = Trajectory_Planner(robot, [0, 0, 0], q, interpolation='joint')\n",
    "print (compute_ForwardKinematics(robot, _q))"
   ]
  },
  {
   "cell_type": "code",
   "execution_count": null,
   "metadata": {},
   "outputs": [],
   "source": []
  }
 ]
}